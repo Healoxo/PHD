{
 "cells": [
  {
   "cell_type": "code",
   "execution_count": 1,
   "id": "5991678e",
   "metadata": {},
   "outputs": [
    {
     "name": "stdout",
     "output_type": "stream",
     "text": [
      "['8.457E-10', '1.193E-09']\n"
     ]
    }
   ],
   "source": [
    "import re\n",
    "f = open(\"/home/thomas/Documents/0_Stage/My_pimms_prgm/output.txt\", \"r\")\n",
    "#print(f.readlines())\n",
    "liste=f.readlines()\n",
    "liste_flux=[]\n",
    "for i in range(len(liste)):\n",
    "    #print(liste[i].split())\n",
    "    if re.search(\".*PIMMS predicts an unabsorbed flux*\",str(liste[i])) != None:\n",
    "        liste_flux.append(liste[i].split()[-2])\n",
    "\n",
    "if len(liste_flux)==0:\n",
    "    for i in range(len(liste)):\n",
    "        print(liste[i].split())\n",
    "print(liste_flux)"
   ]
  },
  {
   "cell_type": "code",
   "execution_count": null,
   "id": "024a2597",
   "metadata": {},
   "outputs": [],
   "source": []
  }
 ],
 "metadata": {
  "kernelspec": {
   "display_name": "Python 3 (ipykernel)",
   "language": "python",
   "name": "python3"
  },
  "language_info": {
   "codemirror_mode": {
    "name": "ipython",
    "version": 3
   },
   "file_extension": ".py",
   "mimetype": "text/x-python",
   "name": "python",
   "nbconvert_exporter": "python",
   "pygments_lexer": "ipython3",
   "version": "3.8.10"
  }
 },
 "nbformat": 4,
 "nbformat_minor": 5
}
